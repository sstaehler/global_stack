{
 "cells": [
  {
   "cell_type": "code",
   "execution_count": null,
   "metadata": {
    "collapsed": false,
    "scrolled": true
   },
   "outputs": [],
   "source": [
    "import global_stack\n",
    "\n",
    "\n",
    "R, T, Z = global_stack.plot_global_stack(db_name = '/media/staehler/Staehler_Backup/tmp/')"
   ]
  },
  {
   "cell_type": "code",
   "execution_count": null,
   "metadata": {
    "collapsed": false
   },
   "outputs": [],
   "source": [
    "import matplotlib.pyplot as plt\n",
    "import numpy as np\n",
    "RGB = np.zeros([R.shape[1], R.shape[0], 3])\n",
    "data = np.asarray(R)\n",
    "\n",
    "#RGB = np.asarray([R, T, Z])\n",
    "RGB[:,:,0] = T.T #* 256. / R.max()\n",
    "RGB[:,:,1] = R.T #* 256. / T.max() \n",
    "RGB[:,:,2] = Z.T #* 256. / Z.max() \n",
    "\n",
    "#print(RGB.)\n",
    "print(abs(data).min(), RGB.max())\n",
    "plt.imshow(RGB, origin='lower')\n",
    "\n",
    "plt.show()"
   ]
  }
 ],
 "metadata": {
  "kernelspec": {
   "display_name": "Python [Py35]",
   "language": "python",
   "name": "Python [Py35]"
  },
  "language_info": {
   "codemirror_mode": {
    "name": "ipython",
    "version": 3
   },
   "file_extension": ".py",
   "mimetype": "text/x-python",
   "name": "python",
   "nbconvert_exporter": "python",
   "pygments_lexer": "ipython3",
   "version": "3.5.0rc4"
  }
 },
 "nbformat": 4,
 "nbformat_minor": 0
}
